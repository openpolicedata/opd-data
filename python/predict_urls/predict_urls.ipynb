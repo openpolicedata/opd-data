{
 "cells": [
  {
   "cell_type": "markdown",
   "id": "00f083d7",
   "metadata": {},
   "source": [
    "# How-to: Predict and update URLs for OPD data"
   ]
  },
  {
   "cell_type": "markdown",
   "id": "7c654dfe",
   "metadata": {},
   "source": [
    "#### TO-DO\n",
    "- complete testing\n",
    "- Might need requirements.txt and how to code for that, using % to install packages\n",
    "- add check if URL already in source table"
   ]
  },
  {
   "cell_type": "markdown",
   "id": "351efed0",
   "metadata": {},
   "source": [
    "## Env and packages"
   ]
  },
  {
   "cell_type": "code",
   "execution_count": 8,
   "id": "d891278c",
   "metadata": {},
   "outputs": [],
   "source": [
    "import prediction_funcs"
   ]
  },
  {
   "cell_type": "markdown",
   "id": "9097e9a6",
   "metadata": {},
   "source": [
    "## Example: Try to find a valid URL for a new year"
   ]
  },
  {
   "cell_type": "code",
   "execution_count": 10,
   "id": "bcfdfc67",
   "metadata": {},
   "outputs": [
    {
     "name": "stdout",
     "output_type": "stream",
     "text": [
      "https://opendata.baltimorecity.gov/egis/rest/services/Hosted/911_Calls_For_Service_2026_csv/FeatureServer/0: not valid (status: ArcGIS check)\n",
      "No valid URL found.\n"
     ]
    }
   ],
   "source": [
    "url = \"https://opendata.baltimorecity.gov/egis/rest/services/Hosted/911_Calls_For_Service_2025_csv/FeatureServer/0\"\n",
    "extra_fields = {\n",
    "    \"State\": \"CA\",\n",
    "    \"SourceName\": \"Example PD\",\n",
    "    \"Agency\": \"EXPD\",\n",
    "    \"AgencyFull\": \"Example Police Department\",\n",
    "    \"TableType\": \"Arrests\",\n",
    "    \"DataType\": \"ArcGIS\"\n",
    "}\n",
    "\n",
    "prediction_funcs.try_url_years(url, n_years=1, forward=True, extra_fields=extra_fields)"
   ]
  },
  {
   "cell_type": "code",
   "execution_count": null,
   "id": "7f8fb34c",
   "metadata": {},
   "outputs": [],
   "source": [
    "import requests"
   ]
  },
  {
   "cell_type": "code",
   "execution_count": null,
   "id": "a5328b42",
   "metadata": {},
   "outputs": [],
   "source": [
    "resp = requests.head(url, allow_redirects=False, timeout=10)\n",
    "resp.status_code"
   ]
  },
  {
   "cell_type": "markdown",
   "id": "104ac633",
   "metadata": {},
   "source": [
    "## Example: Automatically update all outdated sources"
   ]
  },
  {
   "cell_type": "code",
   "execution_count": null,
   "id": "074420b7",
   "metadata": {},
   "outputs": [],
   "source": [
    "prediction_funcs.auto_update_sources(verbose=True)"
   ]
  }
 ],
 "metadata": {
  "kernelspec": {
   "display_name": ".venv",
   "language": "python",
   "name": "python3"
  },
  "language_info": {
   "codemirror_mode": {
    "name": "ipython",
    "version": 3
   },
   "file_extension": ".py",
   "mimetype": "text/x-python",
   "name": "python",
   "nbconvert_exporter": "python",
   "pygments_lexer": "ipython3",
   "version": "3.13.1"
  }
 },
 "nbformat": 4,
 "nbformat_minor": 5
}

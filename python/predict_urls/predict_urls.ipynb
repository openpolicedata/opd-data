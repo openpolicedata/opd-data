{
 "cells": [
  {
   "cell_type": "markdown",
   "id": "00f083d7",
   "metadata": {},
   "source": [
    "# How-to: Predict and update URLs for OPD data"
   ]
  },
  {
   "cell_type": "markdown",
   "id": "43085b45",
   "metadata": {},
   "source": [
    "## Environment pre-reqs\n",
    "To install all required packages from `requirements.txt` in this folder, run:"
   ]
  },
  {
   "cell_type": "code",
   "execution_count": null,
   "id": "7430573c",
   "metadata": {
    "vscode": {
     "languageId": "shellscript"
    }
   },
   "outputs": [],
   "source": [
    "pip install -r requirements.txt"
   ]
  },
  {
   "cell_type": "markdown",
   "id": "4e8a5367",
   "metadata": {},
   "source": [
    "Or, if you are using conda, you can create a new environment and install the requirements with:"
   ]
  },
  {
   "cell_type": "code",
   "execution_count": null,
   "id": "e8e64df4",
   "metadata": {
    "vscode": {
     "languageId": "shellscript"
    }
   },
   "outputs": [],
   "source": [
    "conda create -n opd-env python=3.11\n",
    "conda activate opd-env\n",
    "pip install -r requirements.txt"
   ]
  },
  {
   "cell_type": "markdown",
   "id": "896e49d8",
   "metadata": {},
   "source": [
    "## Prediction functions"
   ]
  },
  {
   "cell_type": "code",
   "execution_count": 2,
   "id": "d891278c",
   "metadata": {},
   "outputs": [],
   "source": [
    "# import local script\n",
    "import prediction_funcs"
   ]
  },
  {
   "cell_type": "markdown",
   "id": "9097e9a6",
   "metadata": {},
   "source": [
    "## Find additional datasets from predictable URLs"
   ]
  },
  {
   "cell_type": "markdown",
   "id": "63b190e4",
   "metadata": {},
   "source": [
    "#### `try_url_years` function\n",
    "This function can be used to test for additional datasets from predictable URLs. Before adding a URL to the OPD Source Table, it will also assure it's not already there. If it is, it will retest if it returns data and appropriately updated the \"last_coverage_check\" field or remove deprecated URLs.\n",
    "\n",
    "Fields required to add a new source to the OPD Source Table can be passed into the function in the \"spreadsheet_fields\" dict arg, as well as below additional fields as available.\n",
    "\n",
    "**Additional spreadsheet fields:**\n",
    "\"Description\", \"source_url\", \"readme\", \"date_field\", \"agency_originated\", \"supplying_entity\", \"agency_field\", \"min_version\", \"query\"\n",
    "\n",
    "The `try_urls_years` function auto-fills the spreadsheet's \"URL\", \"Year\",\"last_coverage_check\", \"coverage_start\", and \"coverage_end\".\n",
    "\n",
    "**Function's args:**\n",
    "- url: str. The URL to modify. *Required*.\n",
    "- spreadsheet_fields: dict with fields to use for checking validity and adding to OPD_Source_table. *Required*.\n",
    "- n_years: int or range. If int, tries n_years forward (or backward if forward=False). If range, uses as years to try. Optional, defaults to 5.\n",
    "- forward: If n_years is int, direction to try. Optional, defaults to True.\n",
    "- year_slice: tuple of (start, end) to slice the URL for the year. Optional, finds the first 4-digit year in the URL.\n",
    "- verbose: If True, prints progress messages. Optional, defaults to False."
   ]
  },
  {
   "cell_type": "markdown",
   "id": "65b6481b",
   "metadata": {},
   "source": [
    "#### Helpers\n",
    "Current TableTypes:"
   ]
  },
  {
   "cell_type": "code",
   "execution_count": 13,
   "id": "eb2903c9",
   "metadata": {},
   "outputs": [
    {
     "data": {
      "text/plain": [
       "array(['ARRESTS', 'CALLS FOR SERVICE', 'INCIDENTS', 'EMPLOYEE', 'STOPS',\n",
       "       'OFFICER-INVOLVED SHOOTINGS', 'POINTING WEAPON',\n",
       "       'TRAFFIC CITATIONS', 'USE OF FORCE', 'CRASHES',\n",
       "       'OFFICER-INVOLVED SHOOTINGS - INCIDENTS',\n",
       "       'OFFICER-INVOLVED SHOOTINGS - OFFICERS',\n",
       "       'OFFICER-INVOLVED SHOOTINGS - SUBJECTS', 'TRAFFIC STOPS',\n",
       "       'DEATHS IN CUSTODY', 'USE OF FORCE - INCIDENTS',\n",
       "       'USE OF FORCE - SUBJECTS/OFFICERS', 'STOPS - INCIDENTS',\n",
       "       'STOPS - SUBJECTS', 'CITATIONS', 'COMPLAINTS',\n",
       "       'USE OF FORCE - ADDITIONAL', 'VEHICLE PURSUITS',\n",
       "       'COMPLAINTS - ALLEGATIONS', 'COMPLAINTS - BACKGROUND',\n",
       "       'COMPLAINTS - BODY WORN CAMERA', 'COMPLAINTS - SUBJECTS',\n",
       "       'CRASHES - INCIDENTS', 'CRASHES - SUBJECTS',\n",
       "       'USE OF FORCE - OFFICERS', 'USE OF FORCE - SUBJECTS', 'LAWSUITS',\n",
       "       'COMPLAINTS - OFFICERS', 'PEDESTRIAN STOPS', 'FIELD CONTACTS',\n",
       "       'TRAFFIC WARNINGS', 'CRASHES - NONMOTORIST',\n",
       "       'DISCIPLINARY RECORDS', 'COMPLAINTS - PENALTIES',\n",
       "       'CRASHES - VEHICLES', 'TRAFFIC STOPS - INCIDENTS',\n",
       "       'TRAFFIC STOPS - SUBJECTS', 'COMPLAINTS - SUBJECTS/OFFICERS',\n",
       "       'INCIDENTS - INCIDENTS', 'INCIDENTS - SUBJECTS',\n",
       "       'PEDESTRIAN CITATIONS', 'SEARCHES', 'WARNINGS'], dtype=object)"
      ]
     },
     "execution_count": 13,
     "metadata": {},
     "output_type": "execute_result"
    }
   ],
   "source": [
    "opd = pd.read_csv(\"../../opd_source_table.csv\")\n",
    "opd[\"TableType\"].unique()"
   ]
  },
  {
   "cell_type": "markdown",
   "id": "c4bf0aa1",
   "metadata": {},
   "source": [
    "### The function with args template for use :)"
   ]
  },
  {
   "cell_type": "code",
   "execution_count": null,
   "id": "bcfdfc67",
   "metadata": {},
   "outputs": [
    {
     "name": "stdout",
     "output_type": "stream",
     "text": [
      "https://opendata.baltimorecity.gov/egis/rest/services/Hosted/911_Calls_For_Service_2014_csv/FeatureServer/0: not valid. Skipping.\n",
      "https://opendata.baltimorecity.gov/egis/rest/services/Hosted/911_Calls_For_Service_2015_csv/FeatureServer/0: not valid. Skipping.\n",
      "https://opendata.baltimorecity.gov/egis/rest/services/Hosted/911_Calls_For_Service_2016_csv/FeatureServer/0: not valid. Skipping.\n",
      "https://opendata.baltimorecity.gov/egis/rest/services/Hosted/911_Calls_For_Service_2017_csv/FeatureServer/0 already in spreadsheet and valid. Updated last_coverage_check.\n",
      "https://opendata.baltimorecity.gov/egis/rest/services/Hosted/911_Calls_For_Service_2018_csv/FeatureServer/0 already in spreadsheet and valid. Updated last_coverage_check.\n",
      "https://opendata.baltimorecity.gov/egis/rest/services/Hosted/911_Calls_For_Service_2019_csv/FeatureServer/0 already in spreadsheet and valid. Updated last_coverage_check.\n",
      "Valid URL found: https://opendata.baltimorecity.gov/egis/rest/services/Hosted/911_Calls_For_Service_2020_csv/FeatureServer/0. Adding to OPD_Source_table.\n",
      "Added to OPD_Source_table: https://opendata.baltimorecity.gov/egis/rest/services/Hosted/911_Calls_For_Service_2020_csv/FeatureServer/0\n",
      "https://opendata.baltimorecity.gov/egis/rest/services/Hosted/911_Calls_For_Service_2021_csv/FeatureServer/0 in spreadsheet but no longer valid. Removing and logging as deleted.\n",
      "https://opendata.baltimorecity.gov/egis/rest/services/Hosted/911_Calls_For_Service_2022_csv/FeatureServer/0: not valid. Skipping.\n",
      "https://opendata.baltimorecity.gov/egis/rest/services/Hosted/911_Calls_For_Service_2023_csv/FeatureServer/0: not valid. Skipping.\n"
     ]
    }
   ],
   "source": [
    "url = \"https://opendata.baltimorecity.gov/egis/rest/services/Hosted/911_Calls_For_Service_2013_csv/FeatureServer/0\"\n",
    "spreadsheet_fields = {\n",
    "    # required fields\n",
    "    \"State\": \"Maryland\",\n",
    "    \"SourceName\": \"Baltimore\",\n",
    "    \"Agency\": \"BPD\",\n",
    "    \"AgencyFull\": \"Baltimore Police Department\",\n",
    "    \"TableType\": \"CALLS FOR SERVICE\",\n",
    "    \"DataType\": \"ArcGIS\"\n",
    "    # below required if \"DataType\" = \"Carto\", \"Ckan\", or \"Socrata\"\n",
    "    # , dataset_id\": \"example-dataset-id\" # this is unlikely to be the same for multiple years, but leaving for completeness and future improvements\n",
    "    # additional fields as needed\n",
    "    , \"source_url\": \"https://services1.arcgis.com/UWYHeuuJISiGmgXx/ArcGIS/rest/services/911_2013_2022/FeatureServer\"\n",
    "    , \"agency_originated\": \"yes\" \n",
    "}\n",
    "\n",
    "prediction_funcs.try_url_years(url, n_years=10, verbose=True, spreadsheet_fields=spreadsheet_fields)"
   ]
  },
  {
   "cell_type": "markdown",
   "id": "104ac633",
   "metadata": {},
   "source": [
    "## Check all OPD Sources for new predictable URLs"
   ]
  },
  {
   "cell_type": "markdown",
   "id": "ab77aa05",
   "metadata": {},
   "source": [
    "#### `auto_update_sources` function\n",
    "This function does a lot more of the leg work for you, by simply checking the existing sources for predictable URLs that may have new datasets available. It does so by automatically looking for where the \"last_coverage_check\" date is last year or older, but you can use the `outdated_days` arg to check more recently checked sources.\n",
    "\n",
    "Note it only checks forward, as it first groups by fields 'State', 'SourceName', 'AgencyFull', and 'TableType' as a composite key, and gets the max Year to test forward from, stopping at current year.\n",
    "\n",
    "The function also assumes all other fields for the new URLs, with the exception of date-related fields, can be duplicated from the latest record. Please confirm any descriptions, readmes, etc, are still relevant. "
   ]
  },
  {
   "cell_type": "code",
   "execution_count": 3,
   "id": "bcfdfc67",
   "metadata": {},
   "outputs": [
    {
     "name": "stdout",
     "output_type": "stream",
     "text": [
      "Checked 15 sources for new URLs, found 4 new sources.\n"
     ]
    }
   ],
   "source": [
    "prediction_funcs.auto_update_sources(\n",
    "    # outdated_days=30 # unspecified defaults to last year\n",
    "    # ,\n",
    "    # verbose=True\n",
    ")"
   ]
  }
 ],
 "metadata": {
  "kernelspec": {
   "display_name": ".venv",
   "language": "python",
   "name": "python3"
  },
  "language_info": {
   "codemirror_mode": {
    "name": "ipython",
    "version": 3
   },
   "file_extension": ".py",
   "mimetype": "text/x-python",
   "name": "python",
   "nbconvert_exporter": "python",
   "pygments_lexer": "ipython3",
   "version": "3.13.1"
  }
 },
 "nbformat": 4,
 "nbformat_minor": 5
}

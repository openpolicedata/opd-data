{
 "cells": [
  {
   "cell_type": "markdown",
   "id": "00f083d7",
   "metadata": {},
   "source": [
    "# How-to: Predict and update URLs for OPD data"
   ]
  },
  {
   "cell_type": "markdown",
   "id": "43085b45",
   "metadata": {},
   "source": [
    "## Environment pre-reqs\n",
    "To install all required packages from `requirements.txt` in this folder, run:"
   ]
  },
  {
   "cell_type": "code",
   "execution_count": null,
   "id": "7430573c",
   "metadata": {
    "vscode": {
     "languageId": "shellscript"
    }
   },
   "outputs": [],
   "source": [
    "pip install -r requirements.txt"
   ]
  },
  {
   "cell_type": "markdown",
   "id": "4e8a5367",
   "metadata": {},
   "source": [
    "Or, if you are using conda, you can create a new environment and install the requirements with:"
   ]
  },
  {
   "cell_type": "code",
   "execution_count": null,
   "id": "e8e64df4",
   "metadata": {
    "vscode": {
     "languageId": "shellscript"
    }
   },
   "outputs": [],
   "source": [
    "conda create -n opd-env python=3.11\n",
    "conda activate opd-env\n",
    "pip install -r requirements.txt"
   ]
  },
  {
   "cell_type": "markdown",
   "id": "896e49d8",
   "metadata": {},
   "source": [
    "## Prediction functions"
   ]
  },
  {
   "cell_type": "code",
   "execution_count": 6,
   "id": "d891278c",
   "metadata": {},
   "outputs": [],
   "source": [
    "# import local script\n",
    "import prediction_funcs"
   ]
  },
  {
   "cell_type": "markdown",
   "id": "9097e9a6",
   "metadata": {},
   "source": [
    "## Example: Try to find a valid URL for a new year"
   ]
  },
  {
   "cell_type": "markdown",
   "id": "aab1874e",
   "metadata": {},
   "source": [
    "**Additional spreadsheet fields:**\n",
    "\"Description\", \"source_url\", \"readme\", \"date_field\",\n",
    "\"agency_field\", \"min_version\", \"query\"\n",
    "\n",
    "The `try_urls_years` function auto-fills the spreadsheet's \"URL\", \"Year\",\"last_coverage_check\", \"coverage_start\", and \"coverage_end\"."
   ]
  },
  {
   "cell_type": "code",
   "execution_count": 7,
   "id": "bcfdfc67",
   "metadata": {},
   "outputs": [
    {
     "name": "stdout",
     "output_type": "stream",
     "text": [
      "Valid URL found: https://services5.arcgis.com/54falWtcpty3V47Z/arcgis/rest/services/Sacramento_Call_for_Service_Data_2025/FeatureServer/0. Adding to OPD_Source_table.\n",
      "Added to OPD_Source_table: https://services5.arcgis.com/54falWtcpty3V47Z/arcgis/rest/services/Sacramento_Call_for_Service_Data_2025/FeatureServer/0\n"
     ]
    }
   ],
   "source": [
    "url = \"https://services5.arcgis.com/54falWtcpty3V47Z/arcgis/rest/services/Sacramento_Call_for_Service_Data_2024/FeatureServer/0\"\n",
    "spreadsheet_fields = { #required fields\n",
    "    \"State\": \"CA\",\n",
    "    \"SourceName\": \"Example PD\",\n",
    "    \"Agency\": \"EXPD\",\n",
    "    \"AgencyFull\": \"Example Police Department\",\n",
    "    \"TableType\": \"Arrests\",\n",
    "    \"DataType\": \"ArcGIS\"\n",
    "    # below required if \"DataType\" = \"Carto\" or \"Ckan\"\n",
    "    # , dataset_id\": \"example-dataset-id\" \n",
    "}\n",
    "\n",
    "prediction_funcs.try_url_years(url, n_years=1, verbose=True, spreadsheet_fields=spreadsheet_fields)"
   ]
  },
  {
   "cell_type": "markdown",
   "id": "104ac633",
   "metadata": {},
   "source": [
    "## Example: Automatically update all outdated sources"
   ]
  },
  {
   "cell_type": "code",
   "execution_count": 3,
   "id": "bcfdfc67",
   "metadata": {},
   "outputs": [],
   "source": [
    "prediction_funcs.auto_update_sources(\n",
    "    # outdated_days=30 # unspecified defaults to last year\n",
    "    # ,\n",
    "    # verbose=True\n",
    ")"
   ]
  }
 ],
 "metadata": {
  "kernelspec": {
   "display_name": ".venv",
   "language": "python",
   "name": "python3"
  },
  "language_info": {
   "codemirror_mode": {
    "name": "ipython",
    "version": 3
   },
   "file_extension": ".py",
   "mimetype": "text/x-python",
   "name": "python",
   "nbconvert_exporter": "python",
   "pygments_lexer": "ipython3",
   "version": "3.13.1"
  }
 },
 "nbformat": 4,
 "nbformat_minor": 5
}

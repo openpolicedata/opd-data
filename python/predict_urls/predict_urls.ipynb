{
 "cells": [
  {
   "cell_type": "markdown",
   "id": "00f083d7",
   "metadata": {},
   "source": [
    "# How-to: Predict and update URLs for OPD data"
   ]
  },
  {
   "cell_type": "markdown",
   "id": "7c654dfe",
   "metadata": {},
   "source": [
    "#### TO-DO\n",
    "- complete testing\n",
    "- confirm whether or not datatypes that require keys ever have duplicate keys. My guess is no and not worth testing\n",
    "- Might need requirements.txt and how to code for that, using % to install packages"
   ]
  },
  {
   "cell_type": "markdown",
   "id": "351efed0",
   "metadata": {},
   "source": [
    "## Env and packages"
   ]
  },
  {
   "cell_type": "code",
   "execution_count": 2,
   "id": "d891278c",
   "metadata": {},
   "outputs": [],
   "source": [
    "import prediction_funcs"
   ]
  },
  {
   "cell_type": "markdown",
   "id": "9097e9a6",
   "metadata": {},
   "source": [
    "## Example: Try to find a valid URL for a new year"
   ]
  },
  {
   "cell_type": "markdown",
   "id": "aab1874e",
   "metadata": {},
   "source": [
    "**Additional spreadsheet fields:**\n",
    "\"Description\", \"source_url\", \"readme\", \"date_field\",\n",
    "\"agency_field\", \"min_version\", \"query\"\n",
    "\n",
    "The `try_urls_years` function auto-fills the spreadsheet's \"URL\", \"Year\",\"last_coverage_check\", \"coverage_start\", and \"coverage_end\"."
   ]
  },
  {
   "cell_type": "code",
   "execution_count": null,
   "id": "bcfdfc67",
   "metadata": {},
   "outputs": [
    {
     "name": "stdout",
     "output_type": "stream",
     "text": [
      "https://services5.arcgis.com/54falWtcpty3V47Z/arcgis/rest/services/Sacramento_Call_for_Service_Data_2020/FeatureServer/0 already in spreadsheet and valid. Updated last_coverage_check.\n"
     ]
    }
   ],
   "source": [
    "url = \"https://services5.arcgis.com/54falWtcpty3V47Z/arcgis/rest/services/Sacramento_Call_for_Service_Data_2024/FeatureServer/0\"\n",
    "spreadsheet_fields = { #required fields\n",
    "    \"State\": \"CA\",\n",
    "    \"SourceName\": \"Example PD\",\n",
    "    \"Agency\": \"EXPD\",\n",
    "    \"AgencyFull\": \"Example Police Department\",\n",
    "    \"TableType\": \"Arrests\",\n",
    "    \"DataType\": \"ArcGIS\"\n",
    "    # below required if \"DataType\" = \"Carto\" or \"Ckan\"\n",
    "    # , dataset_id\": \"example-dataset-id\" \n",
    "}\n",
    "\n",
    "prediction_funcs.try_url_years(url, n_years=1, verbose=True, spreadsheet_fields=spreadsheet_fields)"
   ]
  },
  {
   "cell_type": "markdown",
   "id": "104ac633",
   "metadata": {},
   "source": [
    "## Example: Automatically update all outdated sources"
   ]
  },
  {
   "cell_type": "code",
   "execution_count": 4,
   "id": "074420b7",
   "metadata": {},
   "outputs": [
    {
     "ename": "KeyError",
     "evalue": "\"None of [DatetimeIndex(['2023-08-15', '2025-04-06', '2025-02-17', '2023-07-06',\\n               '2024-03-16', '2024-07-28', '2024-07-28', '2024-07-28',\\n               '2025-04-06', '2025-04-06', '2025-04-06', '2025-04-06',\\n               '2025-04-06', '2023-07-06', '2023-07-06', '2024-03-03',\\n               '2024-03-03', '2025-04-06', '2025-04-13', '2025-04-13',\\n               '2025-04-13', '2025-04-13', '2025-04-13', '2025-04-13',\\n               '2025-04-13', '2025-04-13', '2025-04-13', '2025-04-13',\\n               '2025-04-13', '2025-04-13', '2025-02-17', '2025-04-13',\\n               '2025-04-13', '2025-04-13', '2025-04-13', '2025-04-13',\\n               '2025-04-13', '2023-07-06', '2025-04-13', '2023-07-06',\\n               '2023-08-13', '2025-04-13', '2023-07-06', '2025-04-13',\\n               '2025-04-13', '2023-08-15', '2025-04-13', '2025-04-13',\\n               '2025-04-13', '2025-04-13', '2025-04-13', '2024-03-03',\\n               '2024-06-24', '2025-04-13', '2024-05-10', '2025-02-17',\\n               '2024-03-23', '2025-02-17', '2025-04-13', '2025-04-18',\\n               '2025-04-18', '2025-04-18', '2023-07-07', '2025-04-18',\\n               '2023-07-07', '2023-07-07', '2023-07-07', '2025-03-09',\\n               '2024-05-31', '2024-05-31'],\\n              dtype='datetime64[ns]', freq=None)] are in the [index]\"",
     "output_type": "error",
     "traceback": [
      "\u001b[31m---------------------------------------------------------------------------\u001b[39m",
      "\u001b[31mKeyError\u001b[39m                                  Traceback (most recent call last)",
      "\u001b[36mCell\u001b[39m\u001b[36m \u001b[39m\u001b[32mIn[4]\u001b[39m\u001b[32m, line 1\u001b[39m\n\u001b[32m----> \u001b[39m\u001b[32m1\u001b[39m \u001b[43mprediction_funcs\u001b[49m\u001b[43m.\u001b[49m\u001b[43mauto_update_sources\u001b[49m\u001b[43m(\u001b[49m\u001b[43m)\u001b[49m\n",
      "\u001b[36mFile \u001b[39m\u001b[32md:\\Data Projects\\opd\\OPD-data\\opd-data\\python\\predict_urls\\prediction_funcs.py:228\u001b[39m, in \u001b[36mauto_update_sources\u001b[39m\u001b[34m(outdated_days, verbose)\u001b[39m\n\u001b[32m    226\u001b[39m composite_key = [\u001b[33m'\u001b[39m\u001b[33mState\u001b[39m\u001b[33m'\u001b[39m, \u001b[33m'\u001b[39m\u001b[33mSourceName\u001b[39m\u001b[33m'\u001b[39m, \u001b[33m'\u001b[39m\u001b[33mAgencyFull\u001b[39m\u001b[33m'\u001b[39m, \u001b[33m'\u001b[39m\u001b[33mTableType\u001b[39m\u001b[33m'\u001b[39m]\n\u001b[32m    227\u001b[39m df[\u001b[33m\"\u001b[39m\u001b[33mlast_coverage_check_dt\u001b[39m\u001b[33m\"\u001b[39m] = pd.to_datetime(df[\u001b[33m\"\u001b[39m\u001b[33mlast_coverage_check\u001b[39m\u001b[33m\"\u001b[39m], errors=\u001b[33m\"\u001b[39m\u001b[33mcoerce\u001b[39m\u001b[33m\"\u001b[39m)\n\u001b[32m--> \u001b[39m\u001b[32m228\u001b[39m max_df = \u001b[43mdf\u001b[49m\u001b[43m.\u001b[49m\u001b[43mloc\u001b[49m\u001b[43m[\u001b[49m\u001b[43mdf\u001b[49m\u001b[43m.\u001b[49m\u001b[43mgroupby\u001b[49m\u001b[43m(\u001b[49m\u001b[43mcomposite_key\u001b[49m\u001b[43m)\u001b[49m\u001b[43m[\u001b[49m\u001b[33;43m\"\u001b[39;49m\u001b[33;43mlast_coverage_check_dt\u001b[39;49m\u001b[33;43m\"\u001b[39;49m\u001b[43m]\u001b[49m\u001b[43m.\u001b[49m\u001b[43mmax\u001b[49m\u001b[43m(\u001b[49m\u001b[43m)\u001b[49m\u001b[43m]\u001b[49m\n\u001b[32m    229\u001b[39m \u001b[38;5;66;03m# 5. Check for outdated sources \u001b[39;00m\n\u001b[32m    230\u001b[39m \u001b[38;5;66;03m# Parse last_coverage_check as datetime #TODO it is not getting max for grouped rows. What's going on here?\u001b[39;00m\n\u001b[32m    231\u001b[39m \n\u001b[32m    232\u001b[39m \u001b[38;5;66;03m# Keep rows where last_coverage_check_dt is NaT or older than outdated_days\u001b[39;00m\n\u001b[32m    233\u001b[39m current_date = datetime.now()\n",
      "\u001b[36mFile \u001b[39m\u001b[32md:\\Data Projects\\opd\\OPD-data\\.venv\\Lib\\site-packages\\pandas\\core\\indexing.py:1191\u001b[39m, in \u001b[36m_LocationIndexer.__getitem__\u001b[39m\u001b[34m(self, key)\u001b[39m\n\u001b[32m   1189\u001b[39m maybe_callable = com.apply_if_callable(key, \u001b[38;5;28mself\u001b[39m.obj)\n\u001b[32m   1190\u001b[39m maybe_callable = \u001b[38;5;28mself\u001b[39m._check_deprecated_callable_usage(key, maybe_callable)\n\u001b[32m-> \u001b[39m\u001b[32m1191\u001b[39m \u001b[38;5;28;01mreturn\u001b[39;00m \u001b[38;5;28;43mself\u001b[39;49m\u001b[43m.\u001b[49m\u001b[43m_getitem_axis\u001b[49m\u001b[43m(\u001b[49m\u001b[43mmaybe_callable\u001b[49m\u001b[43m,\u001b[49m\u001b[43m \u001b[49m\u001b[43maxis\u001b[49m\u001b[43m=\u001b[49m\u001b[43maxis\u001b[49m\u001b[43m)\u001b[49m\n",
      "\u001b[36mFile \u001b[39m\u001b[32md:\\Data Projects\\opd\\OPD-data\\.venv\\Lib\\site-packages\\pandas\\core\\indexing.py:1420\u001b[39m, in \u001b[36m_LocIndexer._getitem_axis\u001b[39m\u001b[34m(self, key, axis)\u001b[39m\n\u001b[32m   1417\u001b[39m     \u001b[38;5;28;01mif\u001b[39;00m \u001b[38;5;28mhasattr\u001b[39m(key, \u001b[33m\"\u001b[39m\u001b[33mndim\u001b[39m\u001b[33m\"\u001b[39m) \u001b[38;5;129;01mand\u001b[39;00m key.ndim > \u001b[32m1\u001b[39m:\n\u001b[32m   1418\u001b[39m         \u001b[38;5;28;01mraise\u001b[39;00m \u001b[38;5;167;01mValueError\u001b[39;00m(\u001b[33m\"\u001b[39m\u001b[33mCannot index with multidimensional key\u001b[39m\u001b[33m\"\u001b[39m)\n\u001b[32m-> \u001b[39m\u001b[32m1420\u001b[39m     \u001b[38;5;28;01mreturn\u001b[39;00m \u001b[38;5;28;43mself\u001b[39;49m\u001b[43m.\u001b[49m\u001b[43m_getitem_iterable\u001b[49m\u001b[43m(\u001b[49m\u001b[43mkey\u001b[49m\u001b[43m,\u001b[49m\u001b[43m \u001b[49m\u001b[43maxis\u001b[49m\u001b[43m=\u001b[49m\u001b[43maxis\u001b[49m\u001b[43m)\u001b[49m\n\u001b[32m   1422\u001b[39m \u001b[38;5;66;03m# nested tuple slicing\u001b[39;00m\n\u001b[32m   1423\u001b[39m \u001b[38;5;28;01mif\u001b[39;00m is_nested_tuple(key, labels):\n",
      "\u001b[36mFile \u001b[39m\u001b[32md:\\Data Projects\\opd\\OPD-data\\.venv\\Lib\\site-packages\\pandas\\core\\indexing.py:1360\u001b[39m, in \u001b[36m_LocIndexer._getitem_iterable\u001b[39m\u001b[34m(self, key, axis)\u001b[39m\n\u001b[32m   1357\u001b[39m \u001b[38;5;28mself\u001b[39m._validate_key(key, axis)\n\u001b[32m   1359\u001b[39m \u001b[38;5;66;03m# A collection of keys\u001b[39;00m\n\u001b[32m-> \u001b[39m\u001b[32m1360\u001b[39m keyarr, indexer = \u001b[38;5;28;43mself\u001b[39;49m\u001b[43m.\u001b[49m\u001b[43m_get_listlike_indexer\u001b[49m\u001b[43m(\u001b[49m\u001b[43mkey\u001b[49m\u001b[43m,\u001b[49m\u001b[43m \u001b[49m\u001b[43maxis\u001b[49m\u001b[43m)\u001b[49m\n\u001b[32m   1361\u001b[39m \u001b[38;5;28;01mreturn\u001b[39;00m \u001b[38;5;28mself\u001b[39m.obj._reindex_with_indexers(\n\u001b[32m   1362\u001b[39m     {axis: [keyarr, indexer]}, copy=\u001b[38;5;28;01mTrue\u001b[39;00m, allow_dups=\u001b[38;5;28;01mTrue\u001b[39;00m\n\u001b[32m   1363\u001b[39m )\n",
      "\u001b[36mFile \u001b[39m\u001b[32md:\\Data Projects\\opd\\OPD-data\\.venv\\Lib\\site-packages\\pandas\\core\\indexing.py:1558\u001b[39m, in \u001b[36m_LocIndexer._get_listlike_indexer\u001b[39m\u001b[34m(self, key, axis)\u001b[39m\n\u001b[32m   1555\u001b[39m ax = \u001b[38;5;28mself\u001b[39m.obj._get_axis(axis)\n\u001b[32m   1556\u001b[39m axis_name = \u001b[38;5;28mself\u001b[39m.obj._get_axis_name(axis)\n\u001b[32m-> \u001b[39m\u001b[32m1558\u001b[39m keyarr, indexer = \u001b[43max\u001b[49m\u001b[43m.\u001b[49m\u001b[43m_get_indexer_strict\u001b[49m\u001b[43m(\u001b[49m\u001b[43mkey\u001b[49m\u001b[43m,\u001b[49m\u001b[43m \u001b[49m\u001b[43maxis_name\u001b[49m\u001b[43m)\u001b[49m\n\u001b[32m   1560\u001b[39m \u001b[38;5;28;01mreturn\u001b[39;00m keyarr, indexer\n",
      "\u001b[36mFile \u001b[39m\u001b[32md:\\Data Projects\\opd\\OPD-data\\.venv\\Lib\\site-packages\\pandas\\core\\indexes\\base.py:6200\u001b[39m, in \u001b[36mIndex._get_indexer_strict\u001b[39m\u001b[34m(self, key, axis_name)\u001b[39m\n\u001b[32m   6197\u001b[39m \u001b[38;5;28;01melse\u001b[39;00m:\n\u001b[32m   6198\u001b[39m     keyarr, indexer, new_indexer = \u001b[38;5;28mself\u001b[39m._reindex_non_unique(keyarr)\n\u001b[32m-> \u001b[39m\u001b[32m6200\u001b[39m \u001b[38;5;28;43mself\u001b[39;49m\u001b[43m.\u001b[49m\u001b[43m_raise_if_missing\u001b[49m\u001b[43m(\u001b[49m\u001b[43mkeyarr\u001b[49m\u001b[43m,\u001b[49m\u001b[43m \u001b[49m\u001b[43mindexer\u001b[49m\u001b[43m,\u001b[49m\u001b[43m \u001b[49m\u001b[43maxis_name\u001b[49m\u001b[43m)\u001b[49m\n\u001b[32m   6202\u001b[39m keyarr = \u001b[38;5;28mself\u001b[39m.take(indexer)\n\u001b[32m   6203\u001b[39m \u001b[38;5;28;01mif\u001b[39;00m \u001b[38;5;28misinstance\u001b[39m(key, Index):\n\u001b[32m   6204\u001b[39m     \u001b[38;5;66;03m# GH 42790 - Preserve name from an Index\u001b[39;00m\n",
      "\u001b[36mFile \u001b[39m\u001b[32md:\\Data Projects\\opd\\OPD-data\\.venv\\Lib\\site-packages\\pandas\\core\\indexes\\base.py:6249\u001b[39m, in \u001b[36mIndex._raise_if_missing\u001b[39m\u001b[34m(self, key, indexer, axis_name)\u001b[39m\n\u001b[32m   6247\u001b[39m \u001b[38;5;28;01mif\u001b[39;00m nmissing:\n\u001b[32m   6248\u001b[39m     \u001b[38;5;28;01mif\u001b[39;00m nmissing == \u001b[38;5;28mlen\u001b[39m(indexer):\n\u001b[32m-> \u001b[39m\u001b[32m6249\u001b[39m         \u001b[38;5;28;01mraise\u001b[39;00m \u001b[38;5;167;01mKeyError\u001b[39;00m(\u001b[33mf\u001b[39m\u001b[33m\"\u001b[39m\u001b[33mNone of [\u001b[39m\u001b[38;5;132;01m{\u001b[39;00mkey\u001b[38;5;132;01m}\u001b[39;00m\u001b[33m] are in the [\u001b[39m\u001b[38;5;132;01m{\u001b[39;00maxis_name\u001b[38;5;132;01m}\u001b[39;00m\u001b[33m]\u001b[39m\u001b[33m\"\u001b[39m)\n\u001b[32m   6251\u001b[39m     not_found = \u001b[38;5;28mlist\u001b[39m(ensure_index(key)[missing_mask.nonzero()[\u001b[32m0\u001b[39m]].unique())\n\u001b[32m   6252\u001b[39m     \u001b[38;5;28;01mraise\u001b[39;00m \u001b[38;5;167;01mKeyError\u001b[39;00m(\u001b[33mf\u001b[39m\u001b[33m\"\u001b[39m\u001b[38;5;132;01m{\u001b[39;00mnot_found\u001b[38;5;132;01m}\u001b[39;00m\u001b[33m not in index\u001b[39m\u001b[33m\"\u001b[39m)\n",
      "\u001b[31mKeyError\u001b[39m: \"None of [DatetimeIndex(['2023-08-15', '2025-04-06', '2025-02-17', '2023-07-06',\\n               '2024-03-16', '2024-07-28', '2024-07-28', '2024-07-28',\\n               '2025-04-06', '2025-04-06', '2025-04-06', '2025-04-06',\\n               '2025-04-06', '2023-07-06', '2023-07-06', '2024-03-03',\\n               '2024-03-03', '2025-04-06', '2025-04-13', '2025-04-13',\\n               '2025-04-13', '2025-04-13', '2025-04-13', '2025-04-13',\\n               '2025-04-13', '2025-04-13', '2025-04-13', '2025-04-13',\\n               '2025-04-13', '2025-04-13', '2025-02-17', '2025-04-13',\\n               '2025-04-13', '2025-04-13', '2025-04-13', '2025-04-13',\\n               '2025-04-13', '2023-07-06', '2025-04-13', '2023-07-06',\\n               '2023-08-13', '2025-04-13', '2023-07-06', '2025-04-13',\\n               '2025-04-13', '2023-08-15', '2025-04-13', '2025-04-13',\\n               '2025-04-13', '2025-04-13', '2025-04-13', '2024-03-03',\\n               '2024-06-24', '2025-04-13', '2024-05-10', '2025-02-17',\\n               '2024-03-23', '2025-02-17', '2025-04-13', '2025-04-18',\\n               '2025-04-18', '2025-04-18', '2023-07-07', '2025-04-18',\\n               '2023-07-07', '2023-07-07', '2023-07-07', '2025-03-09',\\n               '2024-05-31', '2024-05-31'],\\n              dtype='datetime64[ns]', freq=None)] are in the [index]\""
     ]
    }
   ],
   "source": [
    "prediction_funcs.auto_update_sources()"
   ]
  }
 ],
 "metadata": {
  "kernelspec": {
   "display_name": ".venv",
   "language": "python",
   "name": "python3"
  },
  "language_info": {
   "codemirror_mode": {
    "name": "ipython",
    "version": 3
   },
   "file_extension": ".py",
   "mimetype": "text/x-python",
   "name": "python",
   "nbconvert_exporter": "python",
   "pygments_lexer": "ipython3",
   "version": "3.13.1"
  }
 },
 "nbformat": 4,
 "nbformat_minor": 5
}

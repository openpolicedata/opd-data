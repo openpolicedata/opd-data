{
 "cells": [
  {
   "cell_type": "markdown",
   "id": "00f083d7",
   "metadata": {},
   "source": [
    "# How-to: Predict and update URLs for OPD data"
   ]
  },
  {
   "cell_type": "markdown",
   "id": "7c654dfe",
   "metadata": {},
   "source": [
    "#### TO-DO\n",
    "- complete testing\n",
    "- Might need requirements.txt and how to code for that, using % to install packages"
   ]
  },
  {
   "cell_type": "markdown",
   "id": "351efed0",
   "metadata": {},
   "source": [
    "## Env and packages"
   ]
  },
  {
   "cell_type": "code",
   "execution_count": 1,
   "id": "d891278c",
   "metadata": {},
   "outputs": [],
   "source": [
    "import prediction_funcs"
   ]
  },
  {
   "cell_type": "markdown",
   "id": "9097e9a6",
   "metadata": {},
   "source": [
    "## Example: Try to find a valid URL for a new year"
   ]
  },
  {
   "cell_type": "markdown",
   "id": "aab1874e",
   "metadata": {},
   "source": [
    "**Additional spreadsheet fields:**\n",
    "\"Description\", \"source_url\", \"readme\", \"date_field\",\n",
    "\"agency_field\", \"min_version\", \"query\"\n",
    "\n",
    "The `try_urls_years` function auto-fills the spreadsheet's \"URL\", \"Year\",\"last_coverage_check\", \"coverage_start\", and \"coverage_end\"."
   ]
  },
  {
   "cell_type": "code",
   "execution_count": 4,
   "id": "bcfdfc67",
   "metadata": {},
   "outputs": [
    {
     "name": "stdout",
     "output_type": "stream",
     "text": [
      "https://opendata.baltimorecity.gov/egis/rest/services/Hosted/911_Calls_For_Service_2017_csv/FeatureServer/0 already in spreadsheet and valid. Updated last_coverage_check.\n",
      "https://opendata.baltimorecity.gov/egis/rest/services/Hosted/911_Calls_For_Service_2018_csv/FeatureServer/0 already in spreadsheet and valid. Updated last_coverage_check.\n",
      "https://opendata.baltimorecity.gov/egis/rest/services/Hosted/911_Calls_For_Service_2019_csv/FeatureServer/0 already in spreadsheet and valid. Updated last_coverage_check.\n",
      "https://opendata.baltimorecity.gov/egis/rest/services/Hosted/911_Calls_For_Service_2020_csv/FeatureServer/0 already in spreadsheet and valid. Updated last_coverage_check.\n",
      "https://opendata.baltimorecity.gov/egis/rest/services/Hosted/911_Calls_For_Service_2021_csv/FeatureServer/0: not valid. Skipping.\n"
     ]
    }
   ],
   "source": [
    "url = \"https://opendata.baltimorecity.gov/egis/rest/services/Hosted/911_Calls_For_Service_2016_csv/FeatureServer/0\"\n",
    "spreadsheet_fields = { #required fields\n",
    "    \"State\": \"CA\",\n",
    "    \"SourceName\": \"Example PD\",\n",
    "    \"Agency\": \"EXPD\",\n",
    "    \"AgencyFull\": \"Example Police Department\",\n",
    "    \"TableType\": \"Arrests\",\n",
    "    \"DataType\": \"ArcGIS\"\n",
    "    # below required if \"DataType\" = \"Carto\" or \"Ckan\"\n",
    "    # , dataset_id\": \"example-dataset-id\" \n",
    "}\n",
    "\n",
    "prediction_funcs.try_url_years(url, forward=True, verbose=True, spreadsheet_fields=spreadsheet_fields)"
   ]
  },
  {
   "cell_type": "markdown",
   "id": "104ac633",
   "metadata": {},
   "source": [
    "## Example: Automatically update all outdated sources"
   ]
  },
  {
   "cell_type": "code",
   "execution_count": null,
   "id": "074420b7",
   "metadata": {},
   "outputs": [],
   "source": [
    "prediction_funcs.auto_update_sources(verbose=True)"
   ]
  }
 ],
 "metadata": {
  "kernelspec": {
   "display_name": ".venv",
   "language": "python",
   "name": "python3"
  },
  "language_info": {
   "codemirror_mode": {
    "name": "ipython",
    "version": 3
   },
   "file_extension": ".py",
   "mimetype": "text/x-python",
   "name": "python",
   "nbconvert_exporter": "python",
   "pygments_lexer": "ipython3",
   "version": "3.13.1"
  }
 },
 "nbformat": 4,
 "nbformat_minor": 5
}
